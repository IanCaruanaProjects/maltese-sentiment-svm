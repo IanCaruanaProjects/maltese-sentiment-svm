{
 "cells": [
  {
   "cell_type": "code",
   "execution_count": 47,
   "metadata": {},
   "outputs": [],
   "source": [
    "import pandas as pd\n",
    "import numpy as np\n",
    "from sklearn.feature_extraction.text import TfidfVectorizer\n",
    "from sklearn.svm import SVC\n",
    "from sklearn.metrics import accuracy_score, precision_score, recall_score, f1_score"
   ]
  },
  {
   "cell_type": "code",
   "execution_count": 48,
   "metadata": {},
   "outputs": [
    {
     "data": {
      "text/html": [
       "<div>\n",
       "<style scoped>\n",
       "    .dataframe tbody tr th:only-of-type {\n",
       "        vertical-align: middle;\n",
       "    }\n",
       "\n",
       "    .dataframe tbody tr th {\n",
       "        vertical-align: top;\n",
       "    }\n",
       "\n",
       "    .dataframe thead th {\n",
       "        text-align: right;\n",
       "    }\n",
       "</style>\n",
       "<table border=\"1\" class=\"dataframe\">\n",
       "  <thead>\n",
       "    <tr style=\"text-align: right;\">\n",
       "      <th></th>\n",
       "      <th>label</th>\n",
       "      <th>text</th>\n",
       "    </tr>\n",
       "  </thead>\n",
       "  <tbody>\n",
       "    <tr>\n",
       "      <th>0</th>\n",
       "      <td>1</td>\n",
       "      <td>Nemmen li huwa baġit tajjeb, imma nies bħali t...</td>\n",
       "    </tr>\n",
       "    <tr>\n",
       "      <th>1</th>\n",
       "      <td>0</td>\n",
       "      <td>Nippremjaw lil min ilu jikser il-liġi snin u j...</td>\n",
       "    </tr>\n",
       "    <tr>\n",
       "      <th>2</th>\n",
       "      <td>0</td>\n",
       "      <td>Xi cuc irrid jitfacca b'kritika ta' din ix-xorta.</td>\n",
       "    </tr>\n",
       "    <tr>\n",
       "      <th>3</th>\n",
       "      <td>0</td>\n",
       "      <td>Ms. Metzola, ara jekk Ms. Mizzi jkollhiex ċans...</td>\n",
       "    </tr>\n",
       "    <tr>\n",
       "      <th>4</th>\n",
       "      <td>1</td>\n",
       "      <td>Naf ċert li int qegħda hemm fejn il-Mulej tkom...</td>\n",
       "    </tr>\n",
       "  </tbody>\n",
       "</table>\n",
       "</div>"
      ],
      "text/plain": [
       "   label                                               text\n",
       "0      1  Nemmen li huwa baġit tajjeb, imma nies bħali t...\n",
       "1      0  Nippremjaw lil min ilu jikser il-liġi snin u j...\n",
       "2      0  Xi cuc irrid jitfacca b'kritika ta' din ix-xorta.\n",
       "3      0  Ms. Metzola, ara jekk Ms. Mizzi jkollhiex ċans...\n",
       "4      1  Naf ċert li int qegħda hemm fejn il-Mulej tkom..."
      ]
     },
     "execution_count": 48,
     "metadata": {},
     "output_type": "execute_result"
    }
   ],
   "source": [
    "df_train = pd.read_csv(\"data/train.csv\", header=None, names=[\"label\", \"text\"])\n",
    "df_dev = pd.read_csv(\"data/dev.csv\", header=None, names=[\"label\", \"text\"])\n",
    "df_test = pd.read_csv(\"data/test.csv\", header=None, names=[\"label\", \"text\"])\n",
    "\n",
    "df_train.head()  # Show first few rows"
   ]
  },
  {
   "cell_type": "code",
   "execution_count": 49,
   "metadata": {},
   "outputs": [],
   "source": [
    "# Function to Predict sentiment\n",
    "def predict_sentiment(sentence, model, vectorizer):\n",
    "    sentence_transformed = vectorizer.transform([sentence])  # Convert sentence to TF-IDF features\n",
    "    prediction = model.predict(sentence_transformed)  # Predict sentiment\n",
    "    sentiment = \"Positive 😊\" if prediction[0] == 1 else \"Negative 😠\"\n",
    "    return sentiment"
   ]
  },
  {
   "cell_type": "code",
   "execution_count": null,
   "metadata": {},
   "outputs": [],
   "source": [
    "# Optimized TF-IDF vectorizer\n",
    "vectorizer = TfidfVectorizer(\n",
    "    max_features=20000,\n",
    "    ngram_range=(1,2),\n",
    "    sublinear_tf=True\n",
    ")\n",
    "\n",
    "# Transform text into feature vectors\n",
    "X_train = vectorizer.fit_transform(df_train[\"text\"])\n",
    "X_dev = vectorizer.transform(df_dev[\"text\"])\n",
    "X_test = vectorizer.transform(df_test[\"text\"])\n",
    "\n",
    "y_train, y_dev, y_test = df_train[\"label\"], df_dev[\"label\"], df_test[\"label\"]"
   ]
  },
  {
   "cell_type": "code",
   "execution_count": 51,
   "metadata": {},
   "outputs": [
    {
     "name": "stdout",
     "output_type": "stream",
     "text": [
      "Validation Accuracy: 0.8118\n",
      "Validation Precision: 0.8824\n",
      "Validation Recall: 0.5172\n",
      "Validation F1 Score: 0.6522\n"
     ]
    }
   ],
   "source": [
    "svm_model = SVC(kernel=\"linear\", C=1.0, class_weight=\"balanced\")  # Linear kernel is best for text\n",
    "svm_model.fit(X_train, y_train)\n",
    "\n",
    "#Predict on development set\n",
    "y_pred_dev = svm_model.predict(X_dev)\n",
    "\n",
    "dev_accuracy = accuracy_score(y_dev, y_pred_dev)\n",
    "dev_precision = precision_score(y_dev, y_pred_dev)\n",
    "dev_recall = recall_score(y_dev, y_pred_dev)\n",
    "dev_f1 = f1_score(y_dev, y_pred_dev)\n",
    "\n",
    "print(f\"Validation Accuracy: {dev_accuracy:.4f}\")\n",
    "print(f\"Validation Precision: {dev_precision:.4f}\")\n",
    "print(f\"Validation Recall: {dev_recall:.4f}\")\n",
    "print(f\"Validation F1 Score: {dev_f1:.4f}\")\n"
   ]
  },
  {
   "cell_type": "code",
   "execution_count": 52,
   "metadata": {},
   "outputs": [
    {
     "name": "stdout",
     "output_type": "stream",
     "text": [
      "Test Accuracy: 0.7193\n",
      "Test Precision: 0.6765\n",
      "Test Recall: 0.3833\n",
      "Test F1 Score: 0.4894\n"
     ]
    }
   ],
   "source": [
    "# Predict on test set\n",
    "y_pred_test = svm_model.predict(X_test)\n",
    "\n",
    "test_accuracy = accuracy_score(y_test, y_pred_test)\n",
    "test_precision = precision_score(y_test, y_pred_test)\n",
    "test_recall = recall_score(y_test, y_pred_test)\n",
    "test_f1 = f1_score(y_test, y_pred_test)\n",
    "\n",
    "print(f\"Test Accuracy: {test_accuracy:.4f}\")\n",
    "print(f\"Test Precision: {test_precision:.4f}\")\n",
    "print(f\"Test Recall: {test_recall:.4f}\")\n",
    "print(f\"Test F1 Score: {test_f1:.4f}\")"
   ]
  },
  {
   "cell_type": "code",
   "execution_count": 53,
   "metadata": {},
   "outputs": [
    {
     "name": "stdout",
     "output_type": "stream",
     "text": [
      "\n",
      "Misclassified Examples:\n",
      "Text: Ser nimmisjawk għażiża nanna tal-poplu Malti u Għawdxi.\n",
      "True Label: 1, Predicted: 0\n",
      "\n",
      "Text: Punt importanti hu li l-website hi bil-Malti, xi ħaġa li aħna l-Maltin għandna nkunu kburin!\n",
      "True Label: 1, Predicted: 0\n",
      "\n",
      "Text: Ħajr kbir lill-Inews tal-ferħa li xerridtu fuqi dalgħodu!!!\n",
      "True Label: 1, Predicted: 0\n",
      "\n",
      "Text: Għamilli pjaċir, titkellimx f'ismi. Jien nivvota MLP imma il-kaċċa ma ddoqlix u se nivvota biex tieqaf imqar fir-rebbiegħa. Almenu nkunu nistgħu ingawdu l-kampanja u l-għasafar aktar fit-tul.\n",
      "True Label: 1, Predicted: 0\n",
      "\n",
      "Text: Ħadd m'għandu jimponi fuq l-ieħor, iżda mill-banda l-oħra  jekk int qiegħed f'pajjiż li mhuwiex tiegħek għandek tirrispetta l-liġijiet u l-kultura tiegħu, u xorta żżomm u jkollok id-dritt li tipprattika u tħaddan dak li trid.\n",
      "True Label: 1, Predicted: 0\n",
      "\n",
      "Text: Tallinja Card b'xejn għal dawk bejn 16 u 20 sena. #maltabudget2018\n",
      "True Label: 1, Predicted: 0\n",
      "\n",
      "Text: Jekk għandhom ikunu rranġati l-inġustizzji, għandhom ikunu rranġati kollha u mhux ta' min ifettillu l-ministru.\n",
      "True Label: 0, Predicted: 1\n",
      "\n",
      "Text: Din in-nomina hija kruċjali għal-knisja Maltija. Malta għandha bżonn isqof żagħżugħ u fuq kollox ta` maż-żagħżagħ u li jiftaħ il-bibien beraħ tal-knisja għal  kulħadd.\n",
      "True Label: 1, Predicted: 0\n",
      "\n",
      "Text: Nuri solidarjeta sħiħa ma' din il-persuna, u nitlob lil Fondazzjoni Wirt Artna tagħti kumpens xieraq.\n",
      "True Label: 1, Predicted: 0\n",
      "\n",
      "Text: Sieħbi serraħ rasek li b'Joseph Muscat prim ministru għad irridu naraw u nduqu opportunitajiet kbar.\n",
      "True Label: 1, Predicted: 0\n",
      "\n"
     ]
    }
   ],
   "source": [
    "# Showing misclassified examples for debugging\n",
    "misclassified = np.where(y_pred_dev != y_dev)[0]\n",
    "print(\"\\nMisclassified Examples:\")\n",
    "for i in misclassified[:10]:  # Show first 10 misclassified examples\n",
    "    print(f\"Text: {df_dev.iloc[i]['text']}\")\n",
    "    print(f\"True Label: {y_dev.iloc[i]}, Predicted: {y_pred_dev[i]}\\n\")"
   ]
  },
  {
   "cell_type": "code",
   "execution_count": 55,
   "metadata": {},
   "outputs": [
    {
     "name": "stdout",
     "output_type": "stream",
     "text": [
      "Positive 😊\n"
     ]
    }
   ],
   "source": [
    "test_sentence = \"Veru kien sabiħ\"\n",
    "print(predict_sentiment(test_sentence, svm_model, vectorizer))  "
   ]
  }
 ],
 "metadata": {
  "kernelspec": {
   "display_name": "venv",
   "language": "python",
   "name": "python3"
  },
  "language_info": {
   "codemirror_mode": {
    "name": "ipython",
    "version": 3
   },
   "file_extension": ".py",
   "mimetype": "text/x-python",
   "name": "python",
   "nbconvert_exporter": "python",
   "pygments_lexer": "ipython3",
   "version": "3.12.0"
  }
 },
 "nbformat": 4,
 "nbformat_minor": 2
}
