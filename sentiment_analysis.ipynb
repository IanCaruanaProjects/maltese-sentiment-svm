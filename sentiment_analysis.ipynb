{
 "cells": [
  {
   "cell_type": "code",
   "execution_count": 1,
   "metadata": {},
   "outputs": [],
   "source": [
    "import pandas as pd\n",
    "from sklearn.feature_extraction.text import TfidfVectorizer\n",
    "from sklearn.svm import SVC\n",
    "from sklearn.metrics import accuracy_score"
   ]
  },
  {
   "cell_type": "code",
   "execution_count": 2,
   "metadata": {},
   "outputs": [
    {
     "data": {
      "text/html": [
       "<div>\n",
       "<style scoped>\n",
       "    .dataframe tbody tr th:only-of-type {\n",
       "        vertical-align: middle;\n",
       "    }\n",
       "\n",
       "    .dataframe tbody tr th {\n",
       "        vertical-align: top;\n",
       "    }\n",
       "\n",
       "    .dataframe thead th {\n",
       "        text-align: right;\n",
       "    }\n",
       "</style>\n",
       "<table border=\"1\" class=\"dataframe\">\n",
       "  <thead>\n",
       "    <tr style=\"text-align: right;\">\n",
       "      <th></th>\n",
       "      <th>label</th>\n",
       "      <th>text</th>\n",
       "    </tr>\n",
       "  </thead>\n",
       "  <tbody>\n",
       "    <tr>\n",
       "      <th>0</th>\n",
       "      <td>1</td>\n",
       "      <td>Nemmen li huwa baġit tajjeb, imma nies bħali t...</td>\n",
       "    </tr>\n",
       "    <tr>\n",
       "      <th>1</th>\n",
       "      <td>0</td>\n",
       "      <td>Nippremjaw lil min ilu jikser il-liġi snin u j...</td>\n",
       "    </tr>\n",
       "    <tr>\n",
       "      <th>2</th>\n",
       "      <td>0</td>\n",
       "      <td>Xi cuc irrid jitfacca b'kritika ta' din ix-xorta.</td>\n",
       "    </tr>\n",
       "    <tr>\n",
       "      <th>3</th>\n",
       "      <td>0</td>\n",
       "      <td>Ms. Metzola, ara jekk Ms. Mizzi jkollhiex ċans...</td>\n",
       "    </tr>\n",
       "    <tr>\n",
       "      <th>4</th>\n",
       "      <td>1</td>\n",
       "      <td>Naf ċert li int qegħda hemm fejn il-Mulej tkom...</td>\n",
       "    </tr>\n",
       "  </tbody>\n",
       "</table>\n",
       "</div>"
      ],
      "text/plain": [
       "   label                                               text\n",
       "0      1  Nemmen li huwa baġit tajjeb, imma nies bħali t...\n",
       "1      0  Nippremjaw lil min ilu jikser il-liġi snin u j...\n",
       "2      0  Xi cuc irrid jitfacca b'kritika ta' din ix-xorta.\n",
       "3      0  Ms. Metzola, ara jekk Ms. Mizzi jkollhiex ċans...\n",
       "4      1  Naf ċert li int qegħda hemm fejn il-Mulej tkom..."
      ]
     },
     "execution_count": 2,
     "metadata": {},
     "output_type": "execute_result"
    }
   ],
   "source": [
    "df_train = pd.read_csv(\"data/train.csv\", header=None, names=[\"label\", \"text\"])\n",
    "df_dev = pd.read_csv(\"data/dev.csv\", header=None, names=[\"label\", \"text\"])\n",
    "df_test = pd.read_csv(\"data/test.csv\", header=None, names=[\"label\", \"text\"])\n",
    "\n",
    "df_train.head()  # Show first few rows"
   ]
  },
  {
   "cell_type": "code",
   "execution_count": 12,
   "metadata": {},
   "outputs": [],
   "source": [
    "def predict_sentiment(sentence, model, vectorizer):\n",
    "    sentence_transformed = vectorizer.transform([sentence])  # Convert sentence to TF-IDF features\n",
    "    prediction = model.predict(sentence_transformed)  # Predict sentiment\n",
    "    sentiment = \"Positive 😊\" if prediction[0] == 1 else \"Negative 😠\"\n",
    "    return sentiment"
   ]
  },
  {
   "cell_type": "code",
   "execution_count": 9,
   "metadata": {},
   "outputs": [],
   "source": [
    "vectorizer = TfidfVectorizer(stop_words=\"english\", max_features=5000)\n",
    "\n",
    "X_train = vectorizer.fit_transform(df_train[\"text\"])\n",
    "X_dev = vectorizer.transform(df_dev[\"text\"])\n",
    "X_test = vectorizer.transform(df_test[\"text\"])\n",
    "\n",
    "y_train = df_train[\"label\"]\n",
    "y_dev = df_dev[\"label\"]\n",
    "y_test = df_test[\"label\"]"
   ]
  },
  {
   "cell_type": "code",
   "execution_count": 10,
   "metadata": {},
   "outputs": [
    {
     "name": "stdout",
     "output_type": "stream",
     "text": [
      "Validation Accuracy: 0.8000\n"
     ]
    }
   ],
   "source": [
    "svm_model = SVC(kernel=\"linear\")\n",
    "svm_model.fit(X_train, y_train)\n",
    "\n",
    "# Predict on dev set\n",
    "y_pred_dev = svm_model.predict(X_dev)\n",
    "accuracy = accuracy_score(y_dev, y_pred_dev)\n",
    "print(f\"Validation Accuracy: {accuracy:.4f}\")"
   ]
  },
  {
   "cell_type": "code",
   "execution_count": 11,
   "metadata": {},
   "outputs": [
    {
     "name": "stdout",
     "output_type": "stream",
     "text": [
      "Test Accuracy: 0.7368\n"
     ]
    }
   ],
   "source": [
    "y_pred_test = svm_model.predict(X_test)\n",
    "test_accuracy = accuracy_score(y_test, y_pred_test)\n",
    "print(f\"Test Accuracy: {test_accuracy:.4f}\")"
   ]
  },
  {
   "cell_type": "code",
   "execution_count": 19,
   "metadata": {},
   "outputs": [
    {
     "name": "stdout",
     "output_type": "stream",
     "text": [
      "Positive 😊\n"
     ]
    }
   ],
   "source": [
    "test_sentence = \"Il-film sabiħ ħafna!\"\n",
    "print(predict_sentiment(test_sentence, svm_model, vectorizer))  "
   ]
  }
 ],
 "metadata": {
  "kernelspec": {
   "display_name": "venv",
   "language": "python",
   "name": "python3"
  },
  "language_info": {
   "codemirror_mode": {
    "name": "ipython",
    "version": 3
   },
   "file_extension": ".py",
   "mimetype": "text/x-python",
   "name": "python",
   "nbconvert_exporter": "python",
   "pygments_lexer": "ipython3",
   "version": "3.13.2"
  }
 },
 "nbformat": 4,
 "nbformat_minor": 2
}
